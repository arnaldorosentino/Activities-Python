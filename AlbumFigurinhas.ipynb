{
  "nbformat": 4,
  "nbformat_minor": 0,
  "metadata": {
    "colab": {
      "name": "AlbumFigurinhas.ipynb",
      "provenance": [],
      "authorship_tag": "ABX9TyMXtbsFAa4+V7zoDPf8y62T",
      "include_colab_link": true
    },
    "kernelspec": {
      "name": "python3",
      "display_name": "Python 3"
    },
    "language_info": {
      "name": "python"
    }
  },
  "cells": [
    {
      "cell_type": "markdown",
      "metadata": {
        "id": "view-in-github",
        "colab_type": "text"
      },
      "source": [
        "<a href=\"https://colab.research.google.com/github/arnaldorosentino/Album_Figurinhas/blob/main/AlbumFigurinhas.ipynb\" target=\"_parent\"><img src=\"https://colab.research.google.com/assets/colab-badge.svg\" alt=\"Open In Colab\"/></a>"
      ]
    },
    {
      "cell_type": "markdown",
      "source": [
        "# Projeto Álbum de Figurinhas\n",
        "\n",
        "Quanto que custa completar um álbum de figurinhas da Copa do Mundo de 2022?\n",
        "\n",
        "Preço do Álbum: R$ 10,00\n",
        "Coleção possui 251 Cromos, sendo 35 metalizados e mais 30 cards\n",
        "\n",
        "Kit com 20 envelopes (80 cromos + 20 cards): R$ 80,00\n",
        "Em cada envelope: 4 cromos e 1 card\n",
        "\n",
        "**Dados Gerais:**\n",
        "\n",
        "- Total de cromos: **251**\n",
        "- Preço do Álbum: **R10,00**\n",
        "- Envelope com 4 cromos: **R$4,00**\n",
        "\n",
        "\n",
        "**Suposições:**\n",
        "\n",
        "- Todas as figurinhas tem igual probabilidade de serem sorteadas\n",
        "- Um pacotinho é comprado por vez\n",
        "- Desejamos completar apenas os cromos, não os cards\n",
        "\n",
        "**Algoritmo:**\n",
        "\n",
        "- Compra um pacotinho de figurinhas (4 figurinhas que podem ser repetidas)\n",
        "- Colar no álbum e verificar se o álbum está completo;\n",
        "- Caso esteja incompleto, comprar mais um pacotinho. Caso contrário, terminar.\n",
        "\n",
        "**Perguntas:**\n",
        "\n",
        "1. Qual o valor médio investido para completar o álbum nessas condições?\n",
        "2. Quantas vezes saiu a figurinha mais repetida, em média? \n",
        "3. Em média, quantas figurinhas não se repetem ao completar o álbum?\n",
        "4. Qual a probabilidade de se gastar mais que 3.000,00 reais para completar o álbum? \n",
        "5. Qual a probabilidade de se gastar menos que 1.500,00 reais para completar o álbum?\n",
        "6. Qual a probabilidade de se gastar mais do que a média para completar o álbum? \n",
        "7. Qual o valor médio gasto caso se esteja completando o álbum com mais um amigo? Quanto se economiza nesse cenário?\n",
        "8. Qual o valor médio gasto caso se esteja completando o álbum com mais dois amigos? Quanto se economiza neste cenário? \n",
        "9. Quanto se gasta, em média, para completar os primeiros 25% do álbum? E os primeiros 50%? E os primeiros 75%?"
      ],
      "metadata": {
        "id": "-PVCplS2qA4l"
      }
    },
    {
      "cell_type": "code",
      "source": [
        "# Atividade 1\n",
        "\n",
        "import random\n",
        "\n",
        "# criando um album de n posições iguais a zero, ou seja, album vazio sem qualquer figurinha colada\n",
        "n = 251\n",
        "preco_album = 10\n",
        "preco_pacote = 4\n",
        "\n",
        "\n",
        "def SimularCompletarAlbum():\n",
        "  album = [0]*n\n",
        "  pacotes = 0\n",
        "\n",
        "  while True:\n",
        "    # comprei um pacoinho de figurinhas\n",
        "    pacotinho = random.sample(range(n),4)\n",
        "    pacotes += 1\n",
        "    \n",
        "    # Colar as figurinhas no álbum\n",
        "    for figurinha in pacotinho:\n",
        "      album[figurinha] += 1\n",
        "    \n",
        "    # Verificação de quem já foi preenchida\n",
        "    preenchidas = []\n",
        "    for figurinha in album:\n",
        "      preenchidas.append(figurinha > 0)\n",
        "    \n",
        "    if all(preenchidas):\n",
        "      break\n",
        "\n",
        "\n",
        "  return pacotes"
      ],
      "metadata": {
        "id": "inybNjG1ssOr"
      },
      "execution_count": 8,
      "outputs": []
    },
    {
      "cell_type": "code",
      "source": [
        "reps = 1000\n",
        "resultados = []\n",
        "for i in range(reps):\n",
        "  resultados.append(SimularCompletarAlbum())\n",
        "  if (i+1) % 100 == 0:\n",
        "    print(f'Simulação {i+1}/{reps} completas')"
      ],
      "metadata": {
        "colab": {
          "base_uri": "https://localhost:8080/"
        },
        "id": "tNTcexHisy9F",
        "outputId": "ef4f7359-8f30-4eae-8562-f13b9a30c2e6"
      },
      "execution_count": 9,
      "outputs": [
        {
          "output_type": "stream",
          "name": "stdout",
          "text": [
            "Simulação 100/1000 completas\n",
            "Simulação 200/1000 completas\n",
            "Simulação 300/1000 completas\n",
            "Simulação 400/1000 completas\n",
            "Simulação 500/1000 completas\n",
            "Simulação 600/1000 completas\n",
            "Simulação 700/1000 completas\n",
            "Simulação 800/1000 completas\n",
            "Simulação 900/1000 completas\n",
            "Simulação 1000/1000 completas\n"
          ]
        }
      ]
    },
    {
      "cell_type": "code",
      "source": [
        "# numero de pacotes necessários em média\n",
        "pacotes_medio = sum(resultados)/len(resultados)\n",
        "\n",
        "# numero de pacotes necessários em média\n",
        "custo_medio = preco_album + preco_pacote*pacotes_medio\n",
        "print('Custo Médio de R$', round(custo_medio,2))"
      ],
      "metadata": {
        "colab": {
          "base_uri": "https://localhost:8080/"
        },
        "id": "V1wjMC_ftLfM",
        "outputId": "d2a18319-cca5-42f3-9f8e-1731b9e65717"
      },
      "execution_count": 10,
      "outputs": [
        {
          "output_type": "stream",
          "name": "stdout",
          "text": [
            "Custo Médio de R$ 1530.78\n"
          ]
        }
      ]
    },
    {
      "cell_type": "code",
      "source": [
        "# Atividade 2\n",
        "\n",
        "import random\n",
        "\n",
        "# criando um album de n posições iguais a zero, ou seja, album vazio sem qualquer figurinha colada\n",
        "n = 251\n",
        "preco_album = 10\n",
        "preco_pacote = 4\n",
        "\n",
        "\n",
        "def SimularRepetidas():\n",
        "  album = [0]*n\n",
        "  pacotes = 0\n",
        "\n",
        "  while True:\n",
        "    # comprei um pacoinho de figurinhas\n",
        "    pacotinho = random.sample(range(n),4)\n",
        "    pacotes += 1\n",
        "    \n",
        "    # Colar as figurinhas no álbum\n",
        "    for figurinha in pacotinho:\n",
        "      album[figurinha] += 1\n",
        "    \n",
        "    # Verificação de quem já foi preenchida\n",
        "    preenchidas = []\n",
        "    for figurinha in album:\n",
        "      preenchidas.append(figurinha > 0)\n",
        "    \n",
        "    if all(preenchidas):\n",
        "      break\n",
        "\n",
        "  return max(album)"
      ],
      "metadata": {
        "id": "keDaBInEDwCS"
      },
      "execution_count": 11,
      "outputs": []
    },
    {
      "cell_type": "code",
      "source": [
        "reps = 1000\n",
        "repetidas = []\n",
        "for i in range(reps):\n",
        "  repetidas.append(SimularRepetidas())"
      ],
      "metadata": {
        "id": "tqkklMpbETlB"
      },
      "execution_count": 12,
      "outputs": []
    },
    {
      "cell_type": "code",
      "source": [
        "# Quantidade media de figurinhas repetidas\n",
        "Media_Repetidas = sum(repetidas)/len(repetidas)\n",
        "\n",
        "print('Valor medio de figurinhas repetidas:', round(Media_Repetidas))"
      ],
      "metadata": {
        "colab": {
          "base_uri": "https://localhost:8080/"
        },
        "id": "tA-FRNhBFHrS",
        "outputId": "f07a0071-1f7c-4b3e-ff80-4ec4ef62b662"
      },
      "execution_count": 13,
      "outputs": [
        {
          "output_type": "stream",
          "name": "stdout",
          "text": [
            "Valor medio de figurinhas repetidas: 14\n"
          ]
        }
      ]
    },
    {
      "cell_type": "code",
      "source": [
        "# Atividade 3\n",
        "\n",
        "import random\n",
        "\n",
        "# criando um album de n posições iguais a zero, ou seja, album vazio sem qualquer figurinha colada\n",
        "n = 251\n",
        "preco_album = 10\n",
        "preco_pacote = 4\n",
        "\n",
        "\n",
        "def SimularNotRepetidas():\n",
        "  album = [0]*n\n",
        "  pacotes = 0\n",
        "\n",
        "  while True:\n",
        "    # comprei um pacoinho de figurinhas\n",
        "    pacotinho = random.sample(range(n),4)\n",
        "    pacotes += 1\n",
        "    \n",
        "    # Colar as figurinhas no álbum\n",
        "    for figurinha in pacotinho:\n",
        "      album[figurinha] += 1\n",
        "    \n",
        "    # Verificação de quem já foi preenchida\n",
        "    preenchidas = []\n",
        "    for figurinha in album:\n",
        "      preenchidas.append(figurinha > 0)\n",
        "    \n",
        "    if all(preenchidas):\n",
        "      break\n",
        "\n",
        "  return album.count(1)"
      ],
      "metadata": {
        "id": "88EAcLHSFvkT"
      },
      "execution_count": 14,
      "outputs": []
    },
    {
      "cell_type": "code",
      "source": [
        "reps = 1000\n",
        "Notrepetidas = []\n",
        "for i in range(reps):\n",
        "  Notrepetidas.append(SimularNotRepetidas())"
      ],
      "metadata": {
        "id": "klKyiAZsGghB"
      },
      "execution_count": 15,
      "outputs": []
    },
    {
      "cell_type": "code",
      "source": [
        "# Quantidade media de figurinhas que nao se repetem\n",
        "Media_NotRepetidas = sum(Notrepetidas)/len(Notrepetidas)\n",
        "\n",
        "print('Valor medio de figurinhas que nao se repetem:', round(Media_NotRepetidas))"
      ],
      "metadata": {
        "colab": {
          "base_uri": "https://localhost:8080/"
        },
        "id": "7mvgumb4GwVo",
        "outputId": "9e0c51dc-c6fb-4c9e-c661-375e3e6c55d3"
      },
      "execution_count": 16,
      "outputs": [
        {
          "output_type": "stream",
          "name": "stdout",
          "text": [
            "Valor medio de figurinhas que nao se repetem: 6\n"
          ]
        }
      ]
    },
    {
      "cell_type": "code",
      "source": [
        "# Atividade 4\n",
        "\n",
        "n=0\n",
        "\n",
        "for i in resultados:\n",
        "  custo = preco_album + preco_pacote*resultados[i]\n",
        "  if custo >= 3000:\n",
        "    n += 1\n",
        "\n",
        "prob3000 = (n/len(resultados))*100\n",
        "print(f'A probabilidade de gastar mais que R$ 3.000,00 é:{round(prob3000,2)} %')"
      ],
      "metadata": {
        "colab": {
          "base_uri": "https://localhost:8080/"
        },
        "id": "Jwq4fIJiMnFH",
        "outputId": "7becb953-747d-4182-ba7e-37dcf001ff11"
      },
      "execution_count": 17,
      "outputs": [
        {
          "output_type": "stream",
          "name": "stdout",
          "text": [
            "A probabilidade de gastar mais que R$ 3.000,00 é:0.1 %\n"
          ]
        }
      ]
    },
    {
      "cell_type": "code",
      "source": [
        "# Atividade 5\n",
        "\n",
        "n=0\n",
        "\n",
        "for i in resultados:\n",
        "  custo = preco_album + preco_pacote*resultados[i]\n",
        "  if custo < 1500:\n",
        "    n += 1\n",
        "\n",
        "prob1500 = (n/len(resultados))*100\n",
        "print(f'A probabilidade de gastar menos que R$ 1.500,00 é:{round(prob1500,2)} %')"
      ],
      "metadata": {
        "colab": {
          "base_uri": "https://localhost:8080/"
        },
        "id": "XGvOzbTxO0Ln",
        "outputId": "f28cfad9-5f50-4941-ff03-88076f37a95c"
      },
      "execution_count": 18,
      "outputs": [
        {
          "output_type": "stream",
          "name": "stdout",
          "text": [
            "A probabilidade de gastar menos que R$ 1.500,00 é:51.1 %\n"
          ]
        }
      ]
    },
    {
      "cell_type": "code",
      "source": [
        "# Atividade 6\n",
        "\n",
        "n=0\n",
        "\n",
        "# numero de pacotes necessários em média\n",
        "pacotes_medio = sum(resultados)/len(resultados)\n",
        "\n",
        "# numero de pacotes necessários em média\n",
        "custo_medio = preco_album + preco_pacote*pacotes_medio\n",
        "\n",
        "for i in resultados:\n",
        "  custo = preco_album + preco_pacote*resultados[i]\n",
        "  if custo > custo_medio:\n",
        "    n += 1\n",
        "\n",
        "probmedia = (n/len(resultados))*100\n",
        "print(f'A probabilidade de gastar mais que a média é:{round(probmedia,2)} %')"
      ],
      "metadata": {
        "colab": {
          "base_uri": "https://localhost:8080/"
        },
        "id": "Pox9UTRZQ0zs",
        "outputId": "15adc463-9828-499f-beab-84c53332ba78"
      },
      "execution_count": 19,
      "outputs": [
        {
          "output_type": "stream",
          "name": "stdout",
          "text": [
            "A probabilidade de gastar mais que a média é:46.3 %\n"
          ]
        }
      ]
    },
    {
      "cell_type": "code",
      "source": [
        "# Atividades 7 e 8\n",
        "\n",
        "import random\n",
        "\n",
        "# criando um album de n posições iguais a zero, ou seja, album vazio sem qualquer figurinha colada\n",
        "n = 251\n",
        "preco_pacote = 4\n",
        "preco_album = 10*3\n",
        "\n",
        "\n",
        "def SimularCompletarAlbumsComAmigos(friends=2):\n",
        " # preco_album = 10*friends\n",
        "  album = [0]*n\n",
        "  pacotes = 0\n",
        "\n",
        "  while True:\n",
        "    # comprei um pacotinho de figurinhas\n",
        "    pacotinho = random.sample(range(n),4)\n",
        "    pacotes += 1\n",
        "    \n",
        "    # Colar as figurinhas no álbum\n",
        "    for figurinha in pacotinho:\n",
        "      album[figurinha] += 1\n",
        "    \n",
        "    # Verificação de quem já foi preenchida\n",
        "    preenchidas = []\n",
        "    for figurinha in album:\n",
        "      preenchidas.append(figurinha > (friends-1))\n",
        "   \n",
        "    if all(preenchidas):\n",
        "      break\n",
        "\n",
        "  return pacotes, friends"
      ],
      "metadata": {
        "id": "7QvVno-kShgj"
      },
      "execution_count": 20,
      "outputs": []
    },
    {
      "cell_type": "code",
      "source": [
        "reps = 1000\n",
        "friends = SimularCompletarAlbumsComAmigos(3)[1]\n",
        "resultados = []\n",
        "for i in range(reps):\n",
        "  resultados.append(SimularCompletarAlbumsComAmigos(3)[0])\n",
        " \n",
        "  if (i+1) % 100 == 0:\n",
        "    print(f'Simulação {i+1}/{reps} completas')\n",
        "\n",
        "# numero de pacotes necessários em média\n",
        "pacotes_medio = sum(resultados)/len(resultados)\n",
        "\n",
        "# numero de pacotes necessários em média\n",
        "custo_medio = (preco_album + preco_pacote*pacotes_medio)/friends\n",
        "print('Custo Médio de R$', round(custo_medio,2))"
      ],
      "metadata": {
        "colab": {
          "base_uri": "https://localhost:8080/"
        },
        "id": "kD6-naiUXU2S",
        "outputId": "288a77b9-86a3-4794-e27c-d02b9f795856"
      },
      "execution_count": 21,
      "outputs": [
        {
          "output_type": "stream",
          "name": "stdout",
          "text": [
            "Simulação 100/1000 completas\n",
            "Simulação 200/1000 completas\n",
            "Simulação 300/1000 completas\n",
            "Simulação 400/1000 completas\n",
            "Simulação 500/1000 completas\n",
            "Simulação 600/1000 completas\n",
            "Simulação 700/1000 completas\n",
            "Simulação 800/1000 completas\n",
            "Simulação 900/1000 completas\n",
            "Simulação 1000/1000 completas\n",
            "Custo Médio de R$ 863.05\n"
          ]
        }
      ]
    },
    {
      "cell_type": "code",
      "source": [
        "# Atividade 9\n",
        "\n",
        "import random\n",
        "\n",
        "# criando um album de n posições iguais a zero, ou seja, album vazio sem qualquer figurinha colada\n",
        "n = 251\n",
        "preco_album = 10\n",
        "preco_pacote = 4\n",
        "\n",
        "\n",
        "def SimularCompletarPercentualAlbum(percentual = 0.25):\n",
        "  album = [0]*n\n",
        "  pacotes = 0\n",
        "\n",
        "  while True:\n",
        "    # comprei um pacoinho de figurinhas\n",
        "    pacotinho = random.sample(range(n),4)\n",
        "    pacotes += 1\n",
        "    \n",
        "    # Colar as figurinhas no álbum\n",
        "    for figurinha in pacotinho:\n",
        "      album[figurinha] += 1\n",
        "    \n",
        "    # Verificação de quem já foi preenchida\n",
        "    preenchidas = []\n",
        "    for figurinha in album:\n",
        "      preenchidas.append(figurinha > 0)\n",
        "    \n",
        "    if (preenchidas.count(True))/n >= percentual:\n",
        "      break\n",
        "\n",
        "\n",
        "  return pacotes"
      ],
      "metadata": {
        "id": "GbkBtL6gyrTS"
      },
      "execution_count": 22,
      "outputs": []
    },
    {
      "cell_type": "code",
      "source": [
        "reps = 1000\n",
        "resultados = []\n",
        "for i in range(reps):\n",
        "  resultados.append(SimularCompletarPercentualAlbum(0.75))\n",
        "  if (i+1) % 100 == 0:\n",
        "    print(f'Simulação {i+1}/{reps} completas')"
      ],
      "metadata": {
        "colab": {
          "base_uri": "https://localhost:8080/"
        },
        "id": "w9NvMfIJ0kHX",
        "outputId": "13a1e4dc-7f63-4e27-82bf-9dac77fce9a1"
      },
      "execution_count": 23,
      "outputs": [
        {
          "output_type": "stream",
          "name": "stdout",
          "text": [
            "Simulação 100/1000 completas\n",
            "Simulação 200/1000 completas\n",
            "Simulação 300/1000 completas\n",
            "Simulação 400/1000 completas\n",
            "Simulação 500/1000 completas\n",
            "Simulação 600/1000 completas\n",
            "Simulação 700/1000 completas\n",
            "Simulação 800/1000 completas\n",
            "Simulação 900/1000 completas\n",
            "Simulação 1000/1000 completas\n"
          ]
        }
      ]
    },
    {
      "cell_type": "code",
      "source": [
        "# numero de pacotes necessários em média\n",
        "pacotes_medio = sum(resultados)/len(resultados)\n",
        "\n",
        "# numero de pacotes necessários em média\n",
        "custo_medio = preco_album + preco_pacote*pacotes_medio\n",
        "print('Custo Médio de R$', round(custo_medio,2))"
      ],
      "metadata": {
        "colab": {
          "base_uri": "https://localhost:8080/"
        },
        "id": "Fer8Afkzt6hR",
        "outputId": "7b48b55a-8e46-4d2d-91cb-6be7c40d1c3b"
      },
      "execution_count": 24,
      "outputs": [
        {
          "output_type": "stream",
          "name": "stdout",
          "text": [
            "Custo Médio de R$ 358.92\n"
          ]
        }
      ]
    }
  ]
}